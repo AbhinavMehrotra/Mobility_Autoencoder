{
 "cells": [
  {
   "cell_type": "code",
   "execution_count": 3,
   "metadata": {
    "collapsed": true
   },
   "outputs": [],
   "source": [
    "### Approach 1. Rescaling lat and lons ###\n",
    "def approachAvg1(lm_data, users):\n",
    "    data = list()\n",
    "    lat_scaler = MinMaxScaler(feature_range=(0, 1))\n",
    "    lon_scaler = MinMaxScaler(feature_range=(0, 1))\n",
    "    for u in users:\n",
    "        u_data = [d for d in lm_data if d[0] == u]\n",
    "\n",
    "        if len(u_data) < 14:  \n",
    "            continue\n",
    "            \n",
    "        # get lats & lons\n",
    "        lats, lons = [], []\n",
    "        for ud in u_data:\n",
    "            for traj in ud[5]:\n",
    "                for l in traj:\n",
    "#                     lats.append(l[0])\n",
    "#                     lons.append(l[1])\n",
    "                    lats.append(round(float(l[0]), 3)) # lowering precision\n",
    "                    lons.append(round(float(l[1]), 3))\n",
    "        \n",
    "        # normalise distances\n",
    "        lat_scaler.fit(lats)\n",
    "        lon_scaler.fit(lons)\n",
    "        \n",
    "        # flattening\n",
    "        for ud in u_data:\n",
    "            loc_flat = []\n",
    "            for traj in ud[5]:\n",
    "                for l in traj: \n",
    "                    lat = lat_scaler.transform([l[0]])[0]\n",
    "                    lon = lon_scaler.transform([l[1]])[0]\n",
    "                    loc_flat.append(lat)\n",
    "                    loc_flat.append(lon)\n",
    "\n",
    "            data.append([ud[0], ud[1], ud[2], ud[3], ud[4], loc_flat])\n",
    "    return data"
   ]
  },
  {
   "cell_type": "code",
   "execution_count": 2,
   "metadata": {
    "collapsed": true
   },
   "outputs": [],
   "source": [
    "### Approach 2. Computing displacement changes ###\n",
    "def approachAvg2(lm_data, users):\n",
    "    data = list()\n",
    "    for u in users:\n",
    "        u_data = [d for d in lm_data if d[0] == u]\n",
    "\n",
    "        if len(u_data) < 14:  \n",
    "            continue\n",
    "            \n",
    "         #compute distances\n",
    "        for ud in u_data:\n",
    "            dist_list = [0]*(len(ud[5][0])-1)\n",
    "            for traj in ud[5]:\n",
    "                counter = 0\n",
    "                prev_loc = traj[0]\n",
    "                prev_dist = 0\n",
    "                for l in traj[1:]: #starting from 2nd element\n",
    "                    dist = abs(Distance.haversine(prev_loc, l))\n",
    "\n",
    "                    if prev_dist == dist:\n",
    "                        dist_ratio = 0\n",
    "                    else:\n",
    "                        dist_ratio = abs(prev_dist - dist)/max(prev_dist, dist)\n",
    "\n",
    "                    dist_list[counter] += dist_ratio\n",
    "                    counter += 1\n",
    "                    prev_loc = l\n",
    "                    prev_dist = dist\n",
    "            \n",
    "            dist_list = [dl/len(ud[5]) for dl in dist_list]\n",
    "            data.append([ud[0], ud[1], ud[2], ud[3], ud[4], dist_list])\n",
    "    return data"
   ]
  },
  {
   "cell_type": "code",
   "execution_count": 4,
   "metadata": {
    "collapsed": true
   },
   "outputs": [],
   "source": [
    "### Approach 3. Computing displacement [normalised] ### \n",
    "def approachAvg3(lm_data, users):\n",
    "    data = list()\n",
    "    scaler = MinMaxScaler(feature_range=(0, 1))\n",
    "    for u in users:\n",
    "        u_data = [d for d in lm_data if d[0] == u]\n",
    "\n",
    "        if len(u_data) < 14:  \n",
    "            continue\n",
    "        \n",
    "        #compute distances\n",
    "        dist_list = []\n",
    "        for ud in u_data:\n",
    "            for traj in ud[5]:\n",
    "                prev_loc = traj[0]\n",
    "                for l in traj[1:]: #starting from 2nd element\n",
    "                    dist_list.append(abs(Distance.haversine(prev_loc, l)))\n",
    "                    prev_loc = l\n",
    "        \n",
    "        # fit normaliser\n",
    "        scaler.fit(dist_list)\n",
    "        \n",
    "        # compute normalised distances\n",
    "        for ud in u_data:\n",
    "            dist_list = [0]*(len(ud[5][0])-1)\n",
    "            for traj in ud[5]:\n",
    "                counter = 0\n",
    "                prev_loc = traj[0]\n",
    "                for l in traj[1:]: #starting from 2nd element\n",
    "                    dist = abs(Distance.haversine(prev_loc, l))\n",
    "                    dist = scaler.transform([dist])[0]\n",
    "                    \n",
    "                    dist_list[counter] += dist\n",
    "                    counter += 1\n",
    "                    prev_loc = l\n",
    "                    \n",
    "\n",
    "            dist_list = [dl/len(ud[5]) for dl in dist_list]\n",
    "            data.append([ud[0], ud[1], ud[2], ud[3], ud[4], dist_list])\n",
    "    return data"
   ]
  },
  {
   "cell_type": "code",
   "execution_count": 19,
   "metadata": {
    "collapsed": true
   },
   "outputs": [],
   "source": [
    "import collections\n",
    "\n",
    "### Approach 4. Computing time spent at top 10 places ### \n",
    "def approachAvg4(lm_data, users, topn=10, traj_days=14):\n",
    "    data = list()\n",
    "    scaler = MinMaxScaler(feature_range=(0, 1))\n",
    "    for u in users:\n",
    "        u_data = [d for d in lm_data if d[0] == u]\n",
    "\n",
    "        if len(u_data) < 14:  \n",
    "            continue\n",
    "        \n",
    "        # get unique places \n",
    "        latlons = []\n",
    "        for ud in u_data:\n",
    "            for traj in ud[5]:\n",
    "                for l in traj:\n",
    "#                     latlon = [l[0],l[1]]\n",
    "                    latlon = [round(float(l[0]), 3), round(float(l[1]), 3)] # lowering precision\n",
    "                    latlons.append(latlon)\n",
    "        \n",
    "        #print len(latlons)\n",
    "        unique_locs = unique_data = [list(x) for x in set(tuple(x) for x in latlons)]\n",
    "        #print len(unique_locs)\n",
    "        \n",
    "        # compute frequencies \n",
    "        locs_freq = []\n",
    "        for loc in unique_locs:\n",
    "            f = latlons.count(loc)\n",
    "            locs_freq.append([loc, f])\n",
    "        \n",
    "        # get topn locs\n",
    "        locs_freq = sorted(locs_freq, key=lambda x: x[1], reverse=True)\n",
    "        top_n_locs = locs_freq[:topn]\n",
    "        top_n_locs = [l[0] for l in top_n_locs]\n",
    "        \n",
    "        \n",
    "        # compute normalised time spent at each of top_n_locs\n",
    "        for ud in u_data:\n",
    "            time_spent = [0]* (topn + 1) # vector for topn + 1 places. One extra for all other places\n",
    "            for traj in ud[5]:\n",
    "                for l in traj:\n",
    "                    l = [round(float(l[0]), 3), round(float(l[1]), 3)] # lowering precision\n",
    "                    if top_n_locs.count(l) == 0:\n",
    "                        l_index = topn # last index\n",
    "                    else:\n",
    "                        l_index = top_n_locs.index(l) # find index of the item \n",
    "                    time_spent[l_index] += 30 # increase the stay time for that place (30mins as the time series)\n",
    "            \n",
    "            time_spent = [t/(topn*24*60.0) for t in time_spent] # computing the ratio to the overall time \n",
    "            data.append([ud[0], ud[1], ud[2], ud[3], ud[4], time_spent])\n",
    "    return data\n",
    "    \n"
   ]
  },
  {
   "cell_type": "code",
   "execution_count": null,
   "metadata": {
    "collapsed": true
   },
   "outputs": [],
   "source": []
  },
  {
   "cell_type": "code",
   "execution_count": null,
   "metadata": {
    "collapsed": true
   },
   "outputs": [],
   "source": []
  },
  {
   "cell_type": "code",
   "execution_count": null,
   "metadata": {
    "collapsed": true
   },
   "outputs": [],
   "source": []
  },
  {
   "cell_type": "code",
   "execution_count": null,
   "metadata": {
    "collapsed": true
   },
   "outputs": [],
   "source": []
  },
  {
   "cell_type": "code",
   "execution_count": null,
   "metadata": {
    "collapsed": true
   },
   "outputs": [],
   "source": []
  },
  {
   "cell_type": "code",
   "execution_count": null,
   "metadata": {
    "collapsed": true
   },
   "outputs": [],
   "source": []
  }
 ],
 "metadata": {
  "kernelspec": {
   "display_name": "Python 2",
   "language": "python",
   "name": "python2"
  },
  "language_info": {
   "codemirror_mode": {
    "name": "ipython",
    "version": 2
   },
   "file_extension": ".py",
   "mimetype": "text/x-python",
   "name": "python",
   "nbconvert_exporter": "python",
   "pygments_lexer": "ipython2",
   "version": "2.7.14"
  }
 },
 "nbformat": 4,
 "nbformat_minor": 2
}
