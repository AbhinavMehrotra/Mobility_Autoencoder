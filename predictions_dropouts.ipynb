{
 "cells": [
  {
   "cell_type": "code",
   "execution_count": 10,
   "metadata": {
    "scrolled": true
   },
   "outputs": [
    {
     "name": "stdout",
     "output_type": "stream",
     "text": [
      "0.2.0_4\n",
      "0.2.0_4\n"
     ]
    }
   ],
   "source": [
    "run FunctionsLoader.ipynb"
   ]
  },
  {
   "cell_type": "code",
   "execution_count": 11,
   "metadata": {
    "collapsed": true
   },
   "outputs": [],
   "source": [
    "class Predictions():\n",
    "    \n",
    "    \n",
    "    def __init__(self, min_days=30):\n",
    "        self.min_days = min_days\n",
    "            \n",
    "        \n",
    "    # time_window should be in mins (e.g; 30mins)\n",
    "    # sd_ratio should be between 0 and 1 (e.g; 0.25 for using 1/4 of sd)\n",
    "\n",
    "    def loadData(self, time_window, sd_ratio, t_hist):\n",
    "        \n",
    "        ### read mobility data ###\n",
    "        ld = LocationData()\n",
    "        ld.readLocationData(precision_value=4) # read file\n",
    "        ld.filterUser(self.min_days) #filter users with min 30 days\n",
    "        #print len(ld.users)\n",
    "        ld.convertToEqualTimeSeries(time_window * 60 * 1000) # convert to time series of 30mins\n",
    "        dt = ld.createUserDailyTrajectoryLists() # create daily trajectories of users \n",
    "\n",
    "        ### read mood data ###\n",
    "        pd = PhqData()\n",
    "        pd.readPhqData()\n",
    "        pd.computeScores(ld.users, self.min_days)\n",
    "        pd.computeDivergence()\n",
    "        pd.convertTo2Labels(sd_ratio=sd_ratio) \n",
    "        #len(list(set(m[0] for m in pd.phq_scores)))\n",
    "\n",
    "        ### merge data ###\n",
    "        mlm = PhqLocMerge()\n",
    "        mlm.mergeData(dt, pd.phq_scores, t_hist)\n",
    "        \n",
    "        ### set data as a class variable ###\n",
    "        self.data = mlm.data\n",
    "\n",
    "    \n",
    "    \n",
    "    def prepareInput(self):\n",
    "    \n",
    "        ###  transform mobility data ### \n",
    "        users = list(set([m[0] for m in self.data]))\n",
    "        dt2 = approachAvg2(lm_data=self.data, users=users) # Computing displacement changes\n",
    "        dt3 = approachAvg3(lm_data=self.data, users=users) # Computing displacement [normalised]\n",
    "        dt4 = approachAvg4(lm_data=self.data, users=users, topn=20) # Computing displacement [normalised]\n",
    "\n",
    "        ###  combinations of data for using different combinations of features ### \n",
    "        self.data1 = [dt2] \n",
    "        self.data2 = [dt3] \n",
    "        self.data3 = [dt4] \n",
    "        self.data4 = [dt2,dt3] \n",
    "        self.data5 = [dt2,dt4] \n",
    "        self.data6 = [dt3,dt4] \n",
    "        self.data7 = [dt2,dt3,dt4]\n",
    "    \n",
    "    \n",
    "    def computePredictions(self, is_generic=False, predict_raw_score=False, layers=5, act_func='', dropout_rate=0.20):\n",
    "\n",
    "        ### filter users ### \n",
    "        filtered_users = []\n",
    "        users = list(set([m[0] for m in self.data]))\n",
    "        for u in users:\n",
    "            ud = [d for d in self.data1[0] if d[0]==u]\n",
    "            if len(ud) > self.min_days:\n",
    "                filtered_users.append(u)\n",
    "        print 'Number of users', len(filtered_users)\n",
    "        \n",
    "        ### computing prdiction accuracy ### \n",
    "        if is_generic:\n",
    "            model1 = ClassifierMultiDimenHelper.compute_svm_accuracy(self.data1, iteration=20, users=filtered_users, min_days=self.min_days) \n",
    "            model2 = ClassifierMultiDimenHelper.compute_svm_accuracy(self.data2, iteration=20, users=filtered_users, min_days=self.min_days) \n",
    "            model3 = ClassifierMultiDimenHelper.compute_svm_accuracy(self.data3, iteration=20, users=filtered_users, min_days=self.min_days) \n",
    "            model4 = ClassifierMultiDimenHelper.compute_svm_accuracy(self.data4, iteration=20, users=filtered_users, min_days=self.min_days) \n",
    "            model5 = ClassifierMultiDimenHelper.compute_svm_accuracy(self.data5, iteration=20, users=filtered_users, min_days=self.min_days) \n",
    "            model6 = ClassifierMultiDimenHelper.compute_svm_accuracy(self.data6, iteration=20, users=filtered_users, min_days=self.min_days) \n",
    "            model7 = ClassifierMultiDimenHelper.compute_svm_accuracy(self.data7, iteration=20, users=filtered_users, min_days=self.min_days) \n",
    "\n",
    "        else:\n",
    "            model1 = ClassifierPersonalisedHelper.compute_svm_accuracy(self.data1, iteration=20, users=filtered_users, min_days=self.min_days, predict_raw_score=predict_raw_score, layers=layers, act_func=act_func, dropout_rate=dropout_rate) \n",
    "            model2 = ClassifierPersonalisedHelper.compute_svm_accuracy(self.data2, iteration=20, users=filtered_users, min_days=self.min_days, predict_raw_score=predict_raw_score, layers=layers, act_func=act_func, dropout_rate=dropout_rate) \n",
    "            model3 = ClassifierPersonalisedHelper.compute_svm_accuracy(self.data3, iteration=20, users=filtered_users, min_days=self.min_days, predict_raw_score=predict_raw_score, layers=layers, act_func=act_func, dropout_rate=dropout_rate) \n",
    "            model4 = ClassifierPersonalisedHelper.compute_svm_accuracy(self.data4, iteration=20, users=filtered_users, min_days=self.min_days, predict_raw_score=predict_raw_score, layers=layers, act_func=act_func, dropout_rate=dropout_rate) \n",
    "            model5 = ClassifierPersonalisedHelper.compute_svm_accuracy(self.data5, iteration=20, users=filtered_users, min_days=self.min_days, predict_raw_score=predict_raw_score, layers=layers, act_func=act_func, dropout_rate=dropout_rate) \n",
    "            model6 = ClassifierPersonalisedHelper.compute_svm_accuracy(self.data6, iteration=20, users=filtered_users, min_days=self.min_days, predict_raw_score=predict_raw_score, layers=layers, act_func=act_func, dropout_rate=dropout_rate) \n",
    "            model7 = ClassifierPersonalisedHelper.compute_svm_accuracy(self.data7, iteration=20, users=filtered_users, min_days=self.min_days, predict_raw_score=predict_raw_score, layers=layers, act_func=act_func, dropout_rate=dropout_rate) \n",
    "\n",
    "        self.models = [model1, model2, model3, model4, model5, model6, model7]\n",
    "\n",
    "        \n",
    "    def plotPredictions(self, include_mt=False, t_hist=14, file_path=''):\n",
    "        model_names = ['IR 1','IR 2','IR 3','IR 1+2','IR 1+3','IR 2+3','IR 1+2+3']\n",
    "        label_dict = {1:'Sensitivity', 0:'Specificity'}\n",
    "        Plots.multiModel(models=p.models, model_names=model_names, label_dict=label_dict, include_mt=include_mt, t_hist=t_hist, file_path=file_path)\n",
    "        \n",
    "        \n"
   ]
  },
  {
   "cell_type": "code",
   "execution_count": 12,
   "metadata": {
    "collapsed": true
   },
   "outputs": [],
   "source": [
    "# all_models = [] # store models of all iterations (for debugging)\n",
    "# for layers in [5,7,9]:\n",
    "#     for time_window in [10,30,60]:\n",
    "#         for t_hist in [1,7,14]:\n",
    "#             print 'Iteration values:', time_window, t_hist\n",
    "#             p = Predictions(30)\n",
    "#             p.loadData(time_window=time_window, sd_ratio=0.25, t_hist=t_hist)\n",
    "#             p.prepareInput()\n",
    "#             p.computePredictions(is_generic=False, predict_raw_score=False, layers=layers,act_func='tanh')\n",
    "#             all_models = p.models\n",
    "#             file_path = 'plots/classification/tanh/prediction_time_window_' + str(time_window) + '_t_hist_' + str(t_hist)  + '_ae_' + str(layers)  + '.pdf'\n",
    "#             p.plotPredictions(include_mt=True, t_hist=t_hist, file_path=file_path)"
   ]
  },
  {
   "cell_type": "code",
   "execution_count": null,
   "metadata": {},
   "outputs": [
    {
     "name": "stdout",
     "output_type": "stream",
     "text": [
      "dropout_rate 0.0\n",
      "Initial user count 6705\n",
      "User count 5616\n",
      "Min time ratio 0.500023134225\n",
      "Number of users 44\n",
      "Pos count: 900\n",
      "Neg count: 1489\n",
      "Number of users 24\n",
      "[0, 1]\n",
      "dropout_rate 0.7\n",
      "Initial user count 6705\n",
      "User count 5616\n",
      "Min time ratio 0.500023134225\n",
      "Number of users 44\n",
      "Pos count: 900\n",
      "Neg count: 1489\n",
      "Number of users 24\n"
     ]
    }
   ],
   "source": [
    "time_window = 10\n",
    "t_hist = 14\n",
    "layers=5\n",
    "#for dropout_rate in [0.1, 0.2, 0.3, 0.4, 0.5, 0.6]:\n",
    "for dropout_rate in [0.0, 0.7,0.8, 0.9,1]:\n",
    "    print 'dropout_rate', dropout_rate\n",
    "    p = Predictions(30)\n",
    "    p.loadData(time_window=time_window, sd_ratio=0.25, t_hist=t_hist)\n",
    "    p.prepareInput()\n",
    "    p.computePredictions(is_generic=False, predict_raw_score=False, layers=layers,act_func='elu', dropout_rate=dropout_rate)\n",
    "    file_path = 'plots/svm/classification/dropouts/prediction_dropout_rate_' + str(int(dropout_rate*100))  + '.pdf'\n",
    "    p.plotPredictions(include_mt=True, t_hist=t_hist, file_path=file_path)"
   ]
  },
  {
   "cell_type": "code",
   "execution_count": null,
   "metadata": {
    "collapsed": true
   },
   "outputs": [],
   "source": []
  },
  {
   "cell_type": "code",
   "execution_count": null,
   "metadata": {
    "collapsed": true
   },
   "outputs": [],
   "source": []
  },
  {
   "cell_type": "code",
   "execution_count": null,
   "metadata": {
    "collapsed": true
   },
   "outputs": [],
   "source": []
  },
  {
   "cell_type": "code",
   "execution_count": null,
   "metadata": {
    "collapsed": true
   },
   "outputs": [],
   "source": []
  },
  {
   "cell_type": "code",
   "execution_count": null,
   "metadata": {
    "collapsed": true
   },
   "outputs": [],
   "source": []
  },
  {
   "cell_type": "code",
   "execution_count": null,
   "metadata": {
    "collapsed": true
   },
   "outputs": [],
   "source": []
  },
  {
   "cell_type": "code",
   "execution_count": null,
   "metadata": {
    "collapsed": true
   },
   "outputs": [],
   "source": []
  },
  {
   "cell_type": "code",
   "execution_count": null,
   "metadata": {
    "collapsed": true
   },
   "outputs": [],
   "source": []
  },
  {
   "cell_type": "code",
   "execution_count": null,
   "metadata": {
    "collapsed": true
   },
   "outputs": [],
   "source": []
  }
 ],
 "metadata": {
  "kernelspec": {
   "display_name": "Python 2",
   "language": "python",
   "name": "python2"
  },
  "language_info": {
   "codemirror_mode": {
    "name": "ipython",
    "version": 2
   },
   "file_extension": ".py",
   "mimetype": "text/x-python",
   "name": "python",
   "nbconvert_exporter": "python",
   "pygments_lexer": "ipython2",
   "version": "2.7.14"
  }
 },
 "nbformat": 4,
 "nbformat_minor": 2
}
