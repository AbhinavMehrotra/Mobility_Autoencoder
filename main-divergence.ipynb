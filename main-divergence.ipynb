{
 "cells": [
  {
   "cell_type": "code",
   "execution_count": 24,
   "metadata": {},
   "outputs": [
    {
     "name": "stdout",
     "output_type": "stream",
     "text": [
      "0.2.0_4\n"
     ]
    }
   ],
   "source": [
    "run MoodTracesDataLoader.ipynb"
   ]
  },
  {
   "cell_type": "code",
   "execution_count": 2,
   "metadata": {
    "collapsed": true
   },
   "outputs": [],
   "source": [
    "run DataTranformation.ipynb"
   ]
  },
  {
   "cell_type": "code",
   "execution_count": 3,
   "metadata": {
    "collapsed": true
   },
   "outputs": [],
   "source": [
    "run DataTranformationAverages.ipynb"
   ]
  },
  {
   "cell_type": "code",
   "execution_count": 4,
   "metadata": {},
   "outputs": [
    {
     "name": "stdout",
     "output_type": "stream",
     "text": [
      "0.2.0_4\n"
     ]
    }
   ],
   "source": [
    "run AutoEncoder.ipynb"
   ]
  },
  {
   "cell_type": "code",
   "execution_count": 5,
   "metadata": {
    "collapsed": true
   },
   "outputs": [],
   "source": [
    "run ClassifierMultiDimen.ipynb"
   ]
  },
  {
   "cell_type": "code",
   "execution_count": 6,
   "metadata": {
    "collapsed": true
   },
   "outputs": [],
   "source": [
    "run ClassifierPersonalised.ipynb"
   ]
  },
  {
   "cell_type": "code",
   "execution_count": 7,
   "metadata": {
    "collapsed": true
   },
   "outputs": [],
   "source": [
    "run Plots.ipynb"
   ]
  },
  {
   "cell_type": "code",
   "execution_count": null,
   "metadata": {
    "collapsed": true
   },
   "outputs": [],
   "source": []
  },
  {
   "cell_type": "code",
   "execution_count": 8,
   "metadata": {},
   "outputs": [
    {
     "name": "stdout",
     "output_type": "stream",
     "text": [
      "82\n"
     ]
    }
   ],
   "source": [
    "### read mobility data ###\n",
    "ld = LocationData()\n",
    "ld.readLocationData(precision_value=4) # read file\n",
    "ld.filterUser(30) #filter users with min 60 days\n",
    "print len(ld.users)\n",
    "ld.convertToEqualTimeSeries(30 * 60 * 1000) # convert to time series of 30mins\n",
    "dt = ld.createUserDailyTrajectoryLists() # create daily trajectories of users "
   ]
  },
  {
   "cell_type": "code",
   "execution_count": 37,
   "metadata": {},
   "outputs": [
    {
     "name": "stdout",
     "output_type": "stream",
     "text": [
      "Initial user count 6705\n",
      "User count 5616\n",
      "Min time ratio 0.500023134225\n",
      "Number of users 44\n"
     ]
    }
   ],
   "source": [
    "### read mood data ###\n",
    "pd = PhqData()\n",
    "pd.readPhqData()\n",
    "pd.computeScores(ld.users, 30)\n",
    "# pd.computeDivergence()\n",
    "# pd.convertTo2Labels(sd_ratio=0.25)\n",
    "# len(list(set(m[0] for m in pd.phq_scores)))\n"
   ]
  },
  {
   "cell_type": "code",
   "execution_count": 38,
   "metadata": {
    "collapsed": true
   },
   "outputs": [],
   "source": [
    "for d in pd.phq_scores:\n",
    "    d.append(d[2]) # use the score instead of labels "
   ]
  },
  {
   "cell_type": "code",
   "execution_count": 41,
   "metadata": {},
   "outputs": [
    {
     "data": {
      "text/plain": [
       "['5e65acd0-4860-4f6c-9606-e088238087c6', 16585, 12, 6, 12]"
      ]
     },
     "execution_count": 41,
     "metadata": {},
     "output_type": "execute_result"
    }
   ],
   "source": [
    "pd.phq_scores[0]\n"
   ]
  },
  {
   "cell_type": "code",
   "execution_count": null,
   "metadata": {
    "collapsed": true
   },
   "outputs": [],
   "source": []
  },
  {
   "cell_type": "code",
   "execution_count": 42,
   "metadata": {
    "collapsed": true
   },
   "outputs": [],
   "source": [
    "### merge data ###\n",
    "mlm = PhqLocMergeForDivergence()\n",
    "mlm.mergeData(dt, pd.phq_scores)"
   ]
  },
  {
   "cell_type": "code",
   "execution_count": 43,
   "metadata": {},
   "outputs": [
    {
     "name": "stdout",
     "output_type": "stream",
     "text": [
      "2202 2202 2202 2202\n"
     ]
    }
   ],
   "source": [
    "# transform mobility data\n",
    "users = list(set([m[0] for m in mlm.data]))\n",
    "d1 = approachAvg1(lm_data=mlm.data, users=users) # Rescaling lat and lons\n",
    "d2 = approachAvg2(lm_data=mlm.data, users=users) # Computing displacement changes\n",
    "d3 = approachAvg3(lm_data=mlm.data, users=users) # Computing displacement [normalised]\n",
    "d4 = approachAvg4(lm_data=mlm.data, users=users, topn=20) # Computing displacement [normalised]\n",
    "print len(d1), len(d2), len(d3), len(d4)\n"
   ]
  },
  {
   "cell_type": "code",
   "execution_count": 56,
   "metadata": {},
   "outputs": [
    {
     "name": "stdout",
     "output_type": "stream",
     "text": [
      "24\n"
     ]
    }
   ],
   "source": [
    "filtered_users = []\n",
    "for u in users:\n",
    "    ud = [d for d in d1 if d[0]==u]\n",
    "    if len(ud) > 30: \n",
    "        filtered_users.append(u)\n",
    "print len(filtered_users) "
   ]
  },
  {
   "cell_type": "code",
   "execution_count": null,
   "metadata": {},
   "outputs": [],
   "source": []
  },
  {
   "cell_type": "code",
   "execution_count": 594,
   "metadata": {},
   "outputs": [
    {
     "name": "stdout",
     "output_type": "stream",
     "text": [
      "0.2.0_4\n"
     ]
    }
   ],
   "source": [
    "run AutoEncoder.ipynb"
   ]
  },
  {
   "cell_type": "code",
   "execution_count": 62,
   "metadata": {
    "collapsed": true
   },
   "outputs": [],
   "source": [
    "# run ClassifierMultiDimen.ipynb"
   ]
  },
  {
   "cell_type": "code",
   "execution_count": 63,
   "metadata": {},
   "outputs": [],
   "source": [
    "# # data = [d2,d3,d4] \n",
    "# # model_generic = ClassifierMultiDimenHelper.compute_svm_accuracy(data, is_leave_one_user=True, samples_req=10, users=filtered_users)\n",
    "# data1 = [d2] \n",
    "# data2 = [d3] \n",
    "# data3 = [d4] \n",
    "# data4 = [d2,d3] \n",
    "# data5 = [d2,d4] \n",
    "# data6 = [d3,d4] \n",
    "# data7 = [d2,d3,d4] \n",
    "\n",
    "# # model_generic1_sd4 = ClassifierMultiDimenHelper.compute_svm_accuracy(data1, is_leave_one_user=True, samples_req=10, users=filtered_users) \n",
    "# # model_generic2_sd4 = ClassifierMultiDimenHelper.compute_svm_accuracy(data2, is_leave_one_user=True, samples_req=10, users=filtered_users) \n",
    "# # model_generic3_sd4 = ClassifierMultiDimenHelper.compute_svm_accuracy(data3, is_leave_one_user=True, samples_req=10, users=filtered_users) \n",
    "# # model_generic4_sd4 = ClassifierMultiDimenHelper.compute_svm_accuracy(data4, is_leave_one_user=True, samples_req=10, users=filtered_users) \n",
    "# # model_generic5_sd4 = ClassifierMultiDimenHelper.compute_svm_accuracy(data5, is_leave_one_user=True, samples_req=10, users=filtered_users) \n",
    "# # model_generic6_sd4 = ClassifierMultiDimenHelper.compute_svm_accuracy(data6, is_leave_one_user=True, samples_req=10, users=filtered_users) \n",
    "# model_generic7_sd4 = ClassifierMultiDimenHelper.compute_svm_accuracy(data7, is_leave_one_user=True, samples_req=10, users=filtered_users) \n"
   ]
  },
  {
   "cell_type": "code",
   "execution_count": 64,
   "metadata": {},
   "outputs": [],
   "source": [
    "# models = [model_generic1_sd4, model_generic2_sd4, model_generic3_sd4, \n",
    "#           model_generic4_sd4, model_generic5_sd4, model_generic6_sd4, model_generic7_sd4]\n",
    "# model_names = ['d2','d3','d4','d23','d24','d34','d234']\n",
    "# label_dict={1:'Positive', 0:'Negative'}\n",
    "# Plots.multiModel(models, model_names,label_dict=label_dict)"
   ]
  },
  {
   "cell_type": "code",
   "execution_count": null,
   "metadata": {
    "collapsed": true
   },
   "outputs": [],
   "source": []
  },
  {
   "cell_type": "code",
   "execution_count": 65,
   "metadata": {
    "collapsed": true
   },
   "outputs": [],
   "source": [
    "run ClassifierPersonalisedDivergence.ipynb"
   ]
  },
  {
   "cell_type": "code",
   "execution_count": 66,
   "metadata": {},
   "outputs": [],
   "source": [
    "data1 = [d2] \n",
    "data2 = [d3] \n",
    "data3 = [d4] \n",
    "data4 = [d2,d3] \n",
    "data5 = [d2,d4] \n",
    "data6 = [d3,d4] \n",
    "data7 = [d2,d3,d4] \n",
    "\n",
    "# model_pers1 = ClassifierPersonalisedDivergenceHelper.compute_svm_accuracy(data1, iteration=20, users=filtered_users, min_days=30) \n",
    "# model_pers2 = ClassifierPersonalisedDivergenceHelper.compute_svm_accuracy(data2, iteration=20, users=filtered_users, min_days=30) \n",
    "# model_pers3 = ClassifierPersonalisedDivergenceHelper.compute_svm_accuracy(data3, iteration=20, users=filtered_users, min_days=30) \n",
    "# model_pers4 = ClassifierPersonalisedDivergenceHelper.compute_svm_accuracy(data4, iteration=20, users=filtered_users, min_days=30) \n",
    "# model_pers5 = ClassifierPersonalisedDivergenceHelper.compute_svm_accuracy(data5, iteration=20, users=filtered_users, min_days=30) \n",
    "# model_pers6 = ClassifierPersonalisedDivergenceHelper.compute_svm_accuracy(data6, iteration=20, users=filtered_users, min_days=30) \n",
    "# model_pers7 = ClassifierPersonalisedDivergenceHelper.compute_svm_accuracy(data7, iteration=20, users=filtered_users, min_days=30) \n"
   ]
  },
  {
   "cell_type": "code",
   "execution_count": null,
   "metadata": {
    "collapsed": true,
    "scrolled": false
   },
   "outputs": [],
   "source": []
  },
  {
   "cell_type": "code",
   "execution_count": null,
   "metadata": {
    "collapsed": true
   },
   "outputs": [],
   "source": []
  },
  {
   "cell_type": "code",
   "execution_count": 805,
   "metadata": {
    "collapsed": true
   },
   "outputs": [],
   "source": [
    "run Plots.ipynb"
   ]
  },
  {
   "cell_type": "code",
   "execution_count": 806,
   "metadata": {},
   "outputs": [
    {
     "name": "stdout",
     "output_type": "stream",
     "text": [
      "     labels  freq_mean   freq_sd  acc_mean0    acc_sd0  acc_mean1    acc_sd1  \\\n",
      "0  Negative  50.746102  9.378648  78.348949  22.081961  64.927830  26.104868   \n",
      "1  Positive  49.253898  9.378648  67.045455  24.449916  56.818182  25.354825   \n",
      "\n",
      "   acc_mean2    acc_sd2  acc_mean3    acc_sd3  acc_mean4    acc_sd4  \\\n",
      "0  76.196505  21.633062  77.893138  22.075645  82.856419  20.858933   \n",
      "1  67.204017  23.532037  66.411205  25.592114  71.670190  23.335401   \n",
      "\n",
      "   acc_mean5    acc_sd5  acc_mean6    acc_sd6  \n",
      "0  76.956191  21.052649  80.957204  22.170780  \n",
      "1  66.939746  22.460185  72.013742  24.237958  \n",
      "[0, 1]\n"
     ]
    },
    {
     "data": {
      "image/png": "[encoded data removed]",
      "text/plain": [
       "<matplotlib.figure.Figure at 0x7f617408aad0>"
      ]
     },
     "metadata": {},
     "output_type": "display_data"
    }
   ],
   "source": [
    "models = [model_pers1_sd0, model_pers2_sd0, model_pers3_sd0, model_pers4_sd0, model_pers5_sd0, model_pers6_sd0, model_pers7_sd0]\n",
    "model_names = ['d2','d3','d4','d23','d24','d34','d234']\n",
    "label_dict={1:'Positive', 0:'Negative'}\n",
    "Plots.multiModel(models, model_names,label_dict=label_dict)"
   ]
  },
  {
   "cell_type": "code",
   "execution_count": null,
   "metadata": {
    "collapsed": true
   },
   "outputs": [],
   "source": []
  },
  {
   "cell_type": "code",
   "execution_count": null,
   "metadata": {
    "collapsed": true
   },
   "outputs": [],
   "source": []
  },
  {
   "cell_type": "code",
   "execution_count": 807,
   "metadata": {},
   "outputs": [
    {
     "name": "stdout",
     "output_type": "stream",
     "text": [
      "     labels  freq_mean   freq_sd  acc_mean0    acc_sd0  acc_mean1    acc_sd1  \\\n",
      "0  Negative  59.590599  9.693483  85.433575  17.315376  76.206749  21.236127   \n",
      "1  Positive  40.409401  9.693483  58.483755  26.900909  43.813587  27.969060   \n",
      "\n",
      "   acc_mean2    acc_sd2  acc_mean3    acc_sd3  acc_mean4    acc_sd4  \\\n",
      "0  81.994874  18.570697  84.814182  19.347151  87.590773  17.504394   \n",
      "1  56.580243  26.929815  54.840827  27.352420  62.553331  26.014057   \n",
      "\n",
      "   acc_mean5    acc_sd5  acc_mean6    acc_sd6  \n",
      "0  83.618112  18.209354  86.715079  18.180477  \n",
      "1  57.630456  27.596567  61.732852  28.291993  \n",
      "[0, 1]\n"
     ]
    },
    {
     "data": {
      "image/png": "[encoded data removed]",
      "text/plain": [
       "<matplotlib.figure.Figure at 0x7f6174cfc710>"
      ]
     },
     "metadata": {},
     "output_type": "display_data"
    }
   ],
   "source": [
    "models = [model_pers1_sd4, model_pers2_sd4, model_pers3_sd4, model_pers4_sd4, model_pers5_sd4, model_pers6_sd4, model_pers7_sd4]\n",
    "model_names = ['d2','d3','d4','d23','d24','d34','d234']\n",
    "label_dict={1:'Positive', 0:'Negative'}\n",
    "Plots.multiModel(models, model_names,label_dict=label_dict)"
   ]
  },
  {
   "cell_type": "code",
   "execution_count": null,
   "metadata": {
    "collapsed": true
   },
   "outputs": [],
   "source": []
  },
  {
   "cell_type": "code",
   "execution_count": null,
   "metadata": {
    "collapsed": true
   },
   "outputs": [],
   "source": []
  },
  {
   "cell_type": "code",
   "execution_count": 808,
   "metadata": {},
   "outputs": [
    {
     "name": "stdout",
     "output_type": "stream",
     "text": [
      "     labels  freq_mean   freq_sd  acc_mean0    acc_sd0  acc_mean1   acc_sd1  \\\n",
      "0  Negative  68.427604  8.834314  90.112832  13.709200  83.993115  17.48876   \n",
      "1  Positive  31.572396  8.834314  51.370432  31.461413  31.727575  27.63059   \n",
      "\n",
      "   acc_mean2   acc_sd2  acc_mean3    acc_sd3  acc_mean4    acc_sd4  acc_mean5  \\\n",
      "0  88.506407  14.28496  90.055460  14.489521  92.120864  13.939208  89.978963   \n",
      "1  50.498339  29.55234  44.601329  28.958078  56.395349  30.642407  47.840532   \n",
      "\n",
      "     acc_sd5  acc_mean6    acc_sd6  \n",
      "0  14.869679  91.260279  14.637810  \n",
      "1  31.556474  53.446844  32.418837  \n",
      "[0, 1]\n"
     ]
    },
    {
     "data": {
      "image/png": "[encoded data removed]",
      "text/plain": [
       "<matplotlib.figure.Figure at 0x7f617445b2d0>"
      ]
     },
     "metadata": {},
     "output_type": "display_data"
    }
   ],
   "source": [
    "models = [model_pers1_sd2, model_pers2_sd2, model_pers3_sd2, model_pers4_sd2, model_pers5_sd2, model_pers6_sd2, model_pers7_sd2]\n",
    "model_names = ['d2','d3','d4','d23','d24','d34','d234']\n",
    "label_dict={1:'Positive', 0:'Negative'}\n",
    "Plots.multiModel(models, model_names,label_dict=label_dict)"
   ]
  },
  {
   "cell_type": "code",
   "execution_count": null,
   "metadata": {
    "collapsed": true
   },
   "outputs": [],
   "source": []
  }
 ],
 "metadata": {
  "kernelspec": {
   "display_name": "Python 2",
   "language": "python",
   "name": "python2"
  },
  "language_info": {
   "codemirror_mode": {
    "name": "ipython",
    "version": 2
   },
   "file_extension": ".py",
   "mimetype": "text/x-python",
   "name": "python",
   "nbconvert_exporter": "python",
   "pygments_lexer": "ipython2",
   "version": "2.7.14"
  }
 },
 "nbformat": 4,
 "nbformat_minor": 2
}
